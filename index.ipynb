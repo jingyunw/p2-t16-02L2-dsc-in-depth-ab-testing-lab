{
 "cells": [
  {
   "cell_type": "markdown",
   "metadata": {},
   "source": [
    "# In Depth A/B Testing - Lab\n",
    "\n",
    "## Introduction\n",
    "\n",
    "In this lab, you'll explore a survey from Kaggle regarding budding data scientists. With this, you'll form some initial hypotheses, and test them using the tools you've acquired to date. \n",
    "\n",
    "## Objectives\n",
    "\n",
    "You will be able to:\n",
    "* Conduct t-tests and an ANOVA on a real-world dataset and interpret the results"
   ]
  },
  {
   "cell_type": "markdown",
   "metadata": {},
   "source": [
    "## Load the Dataset and Perform a Brief Exploration\n",
    "\n",
    "The data is stored in a file called **multipleChoiceResponses_cleaned.csv**. Feel free to check out the original dataset referenced at the bottom of this lab, although this cleaned version will undoubtedly be easier to work with. Additionally, meta-data regarding the questions is stored in a file name **schema.csv**. Load in the data itself as a Pandas DataFrame, and take a moment to briefly get acquainted with it.\n",
    "\n",
    "> Note: If you can't get the file to load properly, try changing the encoding format as in `encoding='latin1'`"
   ]
  },
  {
   "cell_type": "code",
   "execution_count": 1,
   "metadata": {},
   "outputs": [],
   "source": [
    "import pandas as pd\n",
    "import numpy as np\n",
    "import matplotlib.pyplot as plt\n",
    "%matplotlib inline\n",
    "import seaborn as sns\n",
    "sns.set_style('darkgrid')\n",
    "\n",
    "import warnings\n",
    "warnings.filterwarnings(\"ignore\")"
   ]
  },
  {
   "cell_type": "code",
   "execution_count": 2,
   "metadata": {},
   "outputs": [
    {
     "name": "stdout",
     "output_type": "stream",
     "text": [
      "CONTRIBUTING.md                     index.ipynb\r\n",
      "LICENSE.md                          \u001b[34mindex_files\u001b[m\u001b[m\r\n",
      "README.md                           \u001b[31mmultipleChoiceResponses.csv\u001b[m\u001b[m\r\n",
      "\u001b[34m__pycache__\u001b[m\u001b[m                         multipleChoiceResponses_cleaned.csv\r\n",
      "flatiron_stats.py                   \u001b[31mschema.csv\u001b[m\u001b[m\r\n"
     ]
    }
   ],
   "source": [
    "!ls"
   ]
  },
  {
   "cell_type": "code",
   "execution_count": 3,
   "metadata": {},
   "outputs": [
    {
     "data": {
      "text/html": [
       "<div>\n",
       "<style scoped>\n",
       "    .dataframe tbody tr th:only-of-type {\n",
       "        vertical-align: middle;\n",
       "    }\n",
       "\n",
       "    .dataframe tbody tr th {\n",
       "        vertical-align: top;\n",
       "    }\n",
       "\n",
       "    .dataframe thead th {\n",
       "        text-align: right;\n",
       "    }\n",
       "</style>\n",
       "<table border=\"1\" class=\"dataframe\">\n",
       "  <thead>\n",
       "    <tr style=\"text-align: right;\">\n",
       "      <th></th>\n",
       "      <th>GenderSelect</th>\n",
       "      <th>Country</th>\n",
       "      <th>Age</th>\n",
       "      <th>EmploymentStatus</th>\n",
       "      <th>StudentStatus</th>\n",
       "      <th>LearningDataScience</th>\n",
       "      <th>CodeWriter</th>\n",
       "      <th>CareerSwitcher</th>\n",
       "      <th>CurrentJobTitleSelect</th>\n",
       "      <th>TitleFit</th>\n",
       "      <th>...</th>\n",
       "      <th>JobFactorTitle</th>\n",
       "      <th>JobFactorCompanyFunding</th>\n",
       "      <th>JobFactorImpact</th>\n",
       "      <th>JobFactorRemote</th>\n",
       "      <th>JobFactorIndustry</th>\n",
       "      <th>JobFactorLeaderReputation</th>\n",
       "      <th>JobFactorDiversity</th>\n",
       "      <th>JobFactorPublishingOpportunity</th>\n",
       "      <th>exchangeRate</th>\n",
       "      <th>AdjustedCompensation</th>\n",
       "    </tr>\n",
       "  </thead>\n",
       "  <tbody>\n",
       "    <tr>\n",
       "      <th>0</th>\n",
       "      <td>Non-binary, genderqueer, or gender non-conforming</td>\n",
       "      <td>NaN</td>\n",
       "      <td>NaN</td>\n",
       "      <td>Employed full-time</td>\n",
       "      <td>NaN</td>\n",
       "      <td>NaN</td>\n",
       "      <td>Yes</td>\n",
       "      <td>NaN</td>\n",
       "      <td>DBA/Database Engineer</td>\n",
       "      <td>Fine</td>\n",
       "      <td>...</td>\n",
       "      <td>NaN</td>\n",
       "      <td>NaN</td>\n",
       "      <td>NaN</td>\n",
       "      <td>NaN</td>\n",
       "      <td>NaN</td>\n",
       "      <td>NaN</td>\n",
       "      <td>NaN</td>\n",
       "      <td>NaN</td>\n",
       "      <td>NaN</td>\n",
       "      <td>NaN</td>\n",
       "    </tr>\n",
       "    <tr>\n",
       "      <th>1</th>\n",
       "      <td>Female</td>\n",
       "      <td>United States</td>\n",
       "      <td>30.0</td>\n",
       "      <td>Not employed, but looking for work</td>\n",
       "      <td>NaN</td>\n",
       "      <td>NaN</td>\n",
       "      <td>NaN</td>\n",
       "      <td>NaN</td>\n",
       "      <td>NaN</td>\n",
       "      <td>NaN</td>\n",
       "      <td>...</td>\n",
       "      <td>NaN</td>\n",
       "      <td>NaN</td>\n",
       "      <td>NaN</td>\n",
       "      <td>NaN</td>\n",
       "      <td>NaN</td>\n",
       "      <td>Somewhat important</td>\n",
       "      <td>NaN</td>\n",
       "      <td>NaN</td>\n",
       "      <td>NaN</td>\n",
       "      <td>NaN</td>\n",
       "    </tr>\n",
       "    <tr>\n",
       "      <th>2</th>\n",
       "      <td>Male</td>\n",
       "      <td>Canada</td>\n",
       "      <td>28.0</td>\n",
       "      <td>Not employed, but looking for work</td>\n",
       "      <td>NaN</td>\n",
       "      <td>NaN</td>\n",
       "      <td>NaN</td>\n",
       "      <td>NaN</td>\n",
       "      <td>NaN</td>\n",
       "      <td>NaN</td>\n",
       "      <td>...</td>\n",
       "      <td>Very Important</td>\n",
       "      <td>Very Important</td>\n",
       "      <td>Very Important</td>\n",
       "      <td>Very Important</td>\n",
       "      <td>Very Important</td>\n",
       "      <td>Very Important</td>\n",
       "      <td>Very Important</td>\n",
       "      <td>Very Important</td>\n",
       "      <td>NaN</td>\n",
       "      <td>NaN</td>\n",
       "    </tr>\n",
       "    <tr>\n",
       "      <th>3</th>\n",
       "      <td>Male</td>\n",
       "      <td>United States</td>\n",
       "      <td>56.0</td>\n",
       "      <td>Independent contractor, freelancer, or self-em...</td>\n",
       "      <td>NaN</td>\n",
       "      <td>NaN</td>\n",
       "      <td>Yes</td>\n",
       "      <td>NaN</td>\n",
       "      <td>Operations Research Practitioner</td>\n",
       "      <td>Poorly</td>\n",
       "      <td>...</td>\n",
       "      <td>NaN</td>\n",
       "      <td>NaN</td>\n",
       "      <td>NaN</td>\n",
       "      <td>NaN</td>\n",
       "      <td>NaN</td>\n",
       "      <td>NaN</td>\n",
       "      <td>NaN</td>\n",
       "      <td>NaN</td>\n",
       "      <td>1.0</td>\n",
       "      <td>250000.0</td>\n",
       "    </tr>\n",
       "    <tr>\n",
       "      <th>4</th>\n",
       "      <td>Male</td>\n",
       "      <td>Taiwan</td>\n",
       "      <td>38.0</td>\n",
       "      <td>Employed full-time</td>\n",
       "      <td>NaN</td>\n",
       "      <td>NaN</td>\n",
       "      <td>Yes</td>\n",
       "      <td>NaN</td>\n",
       "      <td>Computer Scientist</td>\n",
       "      <td>Fine</td>\n",
       "      <td>...</td>\n",
       "      <td>NaN</td>\n",
       "      <td>NaN</td>\n",
       "      <td>NaN</td>\n",
       "      <td>NaN</td>\n",
       "      <td>NaN</td>\n",
       "      <td>NaN</td>\n",
       "      <td>NaN</td>\n",
       "      <td>NaN</td>\n",
       "      <td>NaN</td>\n",
       "      <td>NaN</td>\n",
       "    </tr>\n",
       "  </tbody>\n",
       "</table>\n",
       "<p>5 rows × 230 columns</p>\n",
       "</div>"
      ],
      "text/plain": [
       "                                        GenderSelect        Country   Age  \\\n",
       "0  Non-binary, genderqueer, or gender non-conforming            NaN   NaN   \n",
       "1                                             Female  United States  30.0   \n",
       "2                                               Male         Canada  28.0   \n",
       "3                                               Male  United States  56.0   \n",
       "4                                               Male         Taiwan  38.0   \n",
       "\n",
       "                                    EmploymentStatus StudentStatus  \\\n",
       "0                                 Employed full-time           NaN   \n",
       "1                 Not employed, but looking for work           NaN   \n",
       "2                 Not employed, but looking for work           NaN   \n",
       "3  Independent contractor, freelancer, or self-em...           NaN   \n",
       "4                                 Employed full-time           NaN   \n",
       "\n",
       "  LearningDataScience CodeWriter CareerSwitcher  \\\n",
       "0                 NaN        Yes            NaN   \n",
       "1                 NaN        NaN            NaN   \n",
       "2                 NaN        NaN            NaN   \n",
       "3                 NaN        Yes            NaN   \n",
       "4                 NaN        Yes            NaN   \n",
       "\n",
       "              CurrentJobTitleSelect TitleFit  ...  JobFactorTitle  \\\n",
       "0             DBA/Database Engineer     Fine  ...             NaN   \n",
       "1                               NaN      NaN  ...             NaN   \n",
       "2                               NaN      NaN  ...  Very Important   \n",
       "3  Operations Research Practitioner   Poorly  ...             NaN   \n",
       "4                Computer Scientist     Fine  ...             NaN   \n",
       "\n",
       "  JobFactorCompanyFunding JobFactorImpact JobFactorRemote JobFactorIndustry  \\\n",
       "0                     NaN             NaN             NaN               NaN   \n",
       "1                     NaN             NaN             NaN               NaN   \n",
       "2          Very Important  Very Important  Very Important    Very Important   \n",
       "3                     NaN             NaN             NaN               NaN   \n",
       "4                     NaN             NaN             NaN               NaN   \n",
       "\n",
       "  JobFactorLeaderReputation JobFactorDiversity JobFactorPublishingOpportunity  \\\n",
       "0                       NaN                NaN                            NaN   \n",
       "1        Somewhat important                NaN                            NaN   \n",
       "2            Very Important     Very Important                 Very Important   \n",
       "3                       NaN                NaN                            NaN   \n",
       "4                       NaN                NaN                            NaN   \n",
       "\n",
       "  exchangeRate AdjustedCompensation  \n",
       "0          NaN                  NaN  \n",
       "1          NaN                  NaN  \n",
       "2          NaN                  NaN  \n",
       "3          1.0             250000.0  \n",
       "4          NaN                  NaN  \n",
       "\n",
       "[5 rows x 230 columns]"
      ]
     },
     "execution_count": 3,
     "metadata": {},
     "output_type": "execute_result"
    }
   ],
   "source": [
    "#Your code here\n",
    "df = pd.read_csv('multipleChoiceResponses_cleaned.csv', encoding='latin1')\n",
    "df.head()"
   ]
  },
  {
   "cell_type": "markdown",
   "metadata": {},
   "source": [
    "## Wages and Education\n",
    "\n",
    "You've been asked to determine whether education is impactful to salary. Develop a hypothesis test to compare the salaries of those with Master's degrees to those with Bachelor's degrees. Are the two statistically different according to your results?\n",
    "\n",
    "> Note: The relevant features are stored in the 'FormalEducation' and 'AdjustedCompensation' features.\n",
    "\n",
    "You may import the functions stored in the `flatiron_stats.py` file to help perform your hypothesis tests. It contains the stats functions that you previously coded: `welch_t(a,b)`, `welch_df(a, b)`, and `p_value(a, b, two_sided=False)`. \n",
    "\n",
    "Note that `scipy.stats.ttest_ind(a, b, equal_var=False)` performs a two-sided Welch's t-test and that p-values derived from two-sided tests are two times the p-values derived from one-sided tests. See the [documentation](https://docs.scipy.org/doc/scipy/reference/generated/scipy.stats.ttest_ind.html) for more information.    "
   ]
  },
  {
   "cell_type": "code",
   "execution_count": 4,
   "metadata": {},
   "outputs": [],
   "source": [
    "import flatiron_stats as fs"
   ]
  },
  {
   "cell_type": "code",
   "execution_count": 5,
   "metadata": {},
   "outputs": [
    {
     "data": {
      "text/plain": [
       "Master's degree                                                      8204\n",
       "Bachelor's degree                                                    4811\n",
       "Doctoral degree                                                      3543\n",
       "Some college/university study without earning a bachelor's degree     786\n",
       "Professional degree                                                   451\n",
       "I did not complete any formal education past high school              257\n",
       "I prefer not to answer                                                 90\n",
       "Name: FormalEducation, dtype: int64"
      ]
     },
     "execution_count": 5,
     "metadata": {},
     "output_type": "execute_result"
    }
   ],
   "source": [
    "df['FormalEducation'].value_counts()"
   ]
  },
  {
   "cell_type": "code",
   "execution_count": 6,
   "metadata": {},
   "outputs": [
    {
     "data": {
      "text/plain": [
       "100000.000000    60\n",
       "120000.000000    59\n",
       "150000.000000    58\n",
       "71749.560000     47\n",
       "50000.000000     45\n",
       "                 ..\n",
       "70786.560000      1\n",
       "6880.782804       1\n",
       "36344.944000      1\n",
       "106563.600000     1\n",
       "48126.250000      1\n",
       "Name: AdjustedCompensation, Length: 1627, dtype: int64"
      ]
     },
     "execution_count": 6,
     "metadata": {},
     "output_type": "execute_result"
    }
   ],
   "source": [
    "df['AdjustedCompensation'].value_counts()"
   ]
  },
  {
   "cell_type": "code",
   "execution_count": 7,
   "metadata": {},
   "outputs": [],
   "source": [
    "#Your code here\n",
    "f1 = 'FormalEducation'\n",
    "f2 = 'AdjustedCompensation'\n",
    "\n",
    "f1c1 = \"Master's degree\"\n",
    "f1c2 = \"Bachelor's degree\"\n",
    "\n",
    "subset = df[(~df[f1].isnull()) & (~df[f2].isnull())]\n",
    "\n",
    "s1 = subset[subset[f1]==f1c1][f2]\n",
    "s2 = subset[subset[f1]==f1c2][f2]"
   ]
  },
  {
   "cell_type": "code",
   "execution_count": 8,
   "metadata": {},
   "outputs": [
    {
     "data": {
      "text/plain": [
       "<matplotlib.legend.Legend at 0x7ff97a711710>"
      ]
     },
     "execution_count": 8,
     "metadata": {},
     "output_type": "execute_result"
    },
    {
     "data": {
      "image/png": "[encoded data removed]",
      "text/plain": [
       "<Figure size 432x288 with 1 Axes>"
      ]
     },
     "metadata": {
      "needs_background": "light"
     },
     "output_type": "display_data"
    }
   ],
   "source": [
    "sns.distplot(s1, label=\"Master's degree\")\n",
    "sns.distplot(s2, label=\"Bachelor's degree\")\n",
    "plt.legend()"
   ]
  },
  {
   "cell_type": "code",
   "execution_count": 9,
   "metadata": {},
   "outputs": [
    {
     "name": "stdout",
     "output_type": "stream",
     "text": [
      "Comparison of AdjustedCompensation for Master's degree and Bachelor's degree\n",
      "Median Values: \ts1: 53812.17 \ts2: 38399.4\n",
      "Mean Values: \ts1: 69139.9 \ts2: 64887.1\n",
      "Sample sizes: \ts1: 1990 \ts2: 1107\n",
      "Welch's t-test p-value: 0.33077639451272445\n"
     ]
    }
   ],
   "source": [
    "print('Comparison of {} for {} and {}'.format(f2, f1c1, f1c2))\n",
    "\n",
    "print(\"Median Values: \\ts1: {} \\ts2: {}\".format(round(s1.median(),2), round(s2.median(),2)))\n",
    "\n",
    "print(\"Mean Values: \\ts1: {} \\ts2: {}\".format(round(s1.mean(),2), round(s2.mean(),2)))\n",
    "\n",
    "print('Sample sizes: \\ts1: {} \\ts2: {}'.format(len(s1), len(s2)))\n",
    "\n",
    "print(\"Welch's t-test p-value:\", fs.p_value_welch_ttest(s1, s2))"
   ]
  },
  {
   "cell_type": "code",
   "execution_count": 10,
   "metadata": {},
   "outputs": [
    {
     "name": "stdout",
     "output_type": "stream",
     "text": [
      "0.8th percentile:\tset1: 103000.0\tset2: 93233.13\n",
      "0.81th percentile:\tset1: 107009.0\tset2: 95572.83\n",
      "0.82th percentile:\tset1: 110000.0\tset2: 99276.38\n",
      "0.83th percentile:\tset1: 111503.83\tset2: 100000.0\n",
      "0.84th percentile:\tset1: 115240.4\tset2: 103040.0\n",
      "0.85th percentile:\tset1: 119582.6\tset2: 105935.04\n",
      "0.86th percentile:\tset1: 120000.0\tset2: 110000.0\n",
      "0.87th percentile:\tset1: 124719.88\tset2: 112000.0\n",
      "0.88th percentile:\tset1: 129421.46\tset2: 115000.0\n",
      "0.89th percentile:\tset1: 130000.0\tset2: 120000.0\n",
      "0.9th percentile:\tset1: 135000.0\tset2: 120346.5\n",
      "0.91th percentile:\tset1: 140000.0\tset2: 126460.0\n",
      "0.92th percentile:\tset1: 149640.0\tset2: 132615.4\n",
      "0.93th percentile:\tset1: 150000.0\tset2: 140000.0\n",
      "0.94th percentile:\tset1: 160000.0\tset2: 143408.8\n",
      "0.95th percentile:\tset1: 166778.6\tset2: 150000.0\n",
      "0.96th percentile:\tset1: 180000.0\tset2: 179849.74\n",
      "0.97th percentile:\tset1: 200000.0\tset2: 195000.0\n",
      "0.98th percentile:\tset1: 211100.0\tset2: 200000.0\n",
      "0.99th percentile:\tset1: 250000.0\tset2: 250000.0\n",
      "1.0th percentile:\tset1: 4498900.0\tset2: 9999999.0\n"
     ]
    }
   ],
   "source": [
    "for q in np.linspace(.8, 1, num=21):\n",
    "    s1q =  round(s1.quantile(q=q), 2)\n",
    "    s2q =  round(s2.quantile(q=q), 2)\n",
    "    print('{}th percentile:\\tset1: {}\\tset2: {}'.format(round(q,2), s1q, s2q))"
   ]
  },
  {
   "cell_type": "code",
   "execution_count": 11,
   "metadata": {},
   "outputs": [
    {
     "name": "stdout",
     "output_type": "stream",
     "text": [
      "Repeated Test with Outliers Removed:\n",
      "S1: Master's degree\tS2: Bachelor's degree\n",
      "Median Values: \ts1: 53539.72 \ts2: 38292.15\n",
      "Mean Values: \ts1: 63976.63 \ts2: 53744.35\n",
      "Sample sizes: \ts1: 1985 \ts2: 1103\n",
      "Welch's t-test p-value with outliers removed: 4.4874583271514723e-07\n"
     ]
    }
   ],
   "source": [
    "print('Repeated Test with Outliers Removed:')\n",
    "print('S1: {}\\tS2: {}'.format(f1c1, f1c2))\n",
    "\n",
    "outlier_threshold = 500000\n",
    "\n",
    "s1 = subset[(subset[f1]==f1c1) & (subset[f2]<=outlier_threshold)][f2]\n",
    "s2 = subset[(subset[f1]==f1c2) & (subset[f2]<=outlier_threshold)][f2]\n",
    "\n",
    "print(\"Median Values: \\ts1: {} \\ts2: {}\".format(round(s1.median(),2), round(s2.median(),2)))\n",
    "\n",
    "print(\"Mean Values: \\ts1: {} \\ts2: {}\".format(round(s1.mean(),2), round(s2.mean(),2)))\n",
    "\n",
    "print('Sample sizes: \\ts1: {} \\ts2: {}'.format(len(s1), len(s2)))\n",
    "\n",
    "print(\"Welch's t-test p-value with outliers removed:\", fs.p_value_welch_ttest(s1, s2))"
   ]
  },
  {
   "cell_type": "code",
   "execution_count": 12,
   "metadata": {},
   "outputs": [
    {
     "data": {
      "text/plain": [
       "<matplotlib.legend.Legend at 0x7ff97a8c1c88>"
      ]
     },
     "execution_count": 12,
     "metadata": {},
     "output_type": "execute_result"
    },
    {
     "data": {
      "image/png": "[encoded data removed]",
      "text/plain": [
       "<Figure size 432x288 with 1 Axes>"
      ]
     },
     "metadata": {
      "needs_background": "light"
     },
     "output_type": "display_data"
    }
   ],
   "source": [
    "sns.distplot(s1, label=\"Master's degree\")\n",
    "sns.distplot(s2, label=\"Bachelor's degree\")\n",
    "plt.legend()"
   ]
  },
  {
   "cell_type": "markdown",
   "metadata": {},
   "source": [
    "## Wages and Education II\n",
    "\n",
    "Now perform a similar statistical test comparing the AdjustedCompensation of those with Bachelor's degrees and those with Doctorates. If you haven't already, be sure to explore the distribution of the AdjustedCompensation feature for any anomalies. "
   ]
  },
  {
   "cell_type": "code",
   "execution_count": 13,
   "metadata": {},
   "outputs": [
    {
     "name": "stdout",
     "output_type": "stream",
     "text": [
      "Median Values: \n",
      "s1:74131.92 \n",
      "s2:38399.4\n",
      "Sample sizes: \n",
      "s1: 967 \n",
      "s2: 1107\n",
      "Welch's t-test p-value: 0.15682381994720251\n",
      "\n",
      "\n",
      "Repeated Test with Ouliers Removed:\n",
      "Sample sizes: \n",
      "s1: 964 \n",
      "s2: 1103\n",
      "Welch's t-test p-value with outliers removed: 0.0\n"
     ]
    }
   ],
   "source": [
    "#Your code here\n",
    "f1 = 'FormalEducation'\n",
    "f2 = 'AdjustedCompensation'\n",
    "\n",
    "subset = df[(~df[f1].isnull()) & (~df[f2].isnull())]\n",
    "\n",
    "s1 = subset[subset[f1]==\"Doctoral degree\"][f2]\n",
    "s2 = subset[subset[f1]==\"Bachelor's degree\"][f2]\n",
    "\n",
    "print(\"Median Values: \\ns1:{} \\ns2:{}\".format(round(s1.median(),2), round(s2.median(),2)))\n",
    "print('Sample sizes: \\ns1: {} \\ns2: {}'.format(len(s1), len(s2)))\n",
    "print(\"Welch's t-test p-value:\", fs.p_value_welch_ttest(s1, s2))\n",
    "\n",
    "print('\\n\\nRepeated Test with Ouliers Removed:')\n",
    "\n",
    "outlier_threshold = 500000\n",
    "\n",
    "s1 = subset[(subset[f1]==\"Doctoral degree\") & (subset[f2]<=outlier_threshold)][f2]\n",
    "s2 = subset[(subset[f1]==\"Bachelor's degree\") & (subset[f2]<=outlier_threshold)][f2]\n",
    "\n",
    "print('Sample sizes: \\ns1: {} \\ns2: {}'.format(len(s1), len(s2)))\n",
    "print(\"Welch's t-test p-value with outliers removed:\", fs.p_value_welch_ttest(s1, s2))"
   ]
  },
  {
   "cell_type": "markdown",
   "metadata": {},
   "source": [
    "## Wages and Education III\n",
    "\n",
    "Remember the multiple comparisons problem; rather than continuing on like this, perform an ANOVA test between the various 'FormalEducation' categories and their relation to 'AdjustedCompensation'."
   ]
  },
  {
   "cell_type": "code",
   "execution_count": 14,
   "metadata": {},
   "outputs": [
    {
     "name": "stdout",
     "output_type": "stream",
     "text": [
      "                          sum_sq      df         F    PR(>F)\n",
      "C(FormalEducation)  6.540294e+17     6.0  0.590714  0.738044\n",
      "Residual            7.999414e+20  4335.0       NaN       NaN\n"
     ]
    }
   ],
   "source": [
    "#Your code here\n",
    "#Perform ANOVA here\n",
    "import statsmodels.api as sm\n",
    "from statsmodels.formula.api import ols\n",
    "\n",
    "formula = '{} ~ C({})'.format(f2, f1)\n",
    "lm = ols(formula, df).fit()\n",
    "table = sm.stats.anova_lm(lm, typ=2)\n",
    "print(table)"
   ]
  },
  {
   "cell_type": "code",
   "execution_count": 15,
   "metadata": {},
   "outputs": [
    {
     "name": "stdout",
     "output_type": "stream",
     "text": [
      "                          sum_sq      df          F        PR(>F)\n",
      "C(FormalEducation)  5.841881e+11     6.0  29.224224  1.727132e-34\n",
      "Residual            1.439270e+13  4320.0        NaN           NaN\n"
     ]
    }
   ],
   "source": [
    "temp = df[df[f2]<=5*10**5]\n",
    "formula = '{} ~ C({})'.format(f2, f1)\n",
    "lm = ols(formula, temp).fit()\n",
    "table = sm.stats.anova_lm(lm, typ=2)\n",
    "print(table)"
   ]
  },
  {
   "cell_type": "markdown",
   "metadata": {},
   "source": [
    "## Additional Resources\n",
    "\n",
    "Here's the original source where the data was taken from:  \n",
    "    [Kaggle Machine Learning & Data Science Survey 2017](https://www.kaggle.com/kaggle/kaggle-survey-2017)"
   ]
  },
  {
   "cell_type": "markdown",
   "metadata": {},
   "source": [
    "## Summary\n",
    "\n",
    "In this lab, you practiced conducting actual hypothesis tests on actual data. From this, you saw how dependent results can be on the initial problem formulation, including preprocessing!"
   ]
  }
 ],
 "metadata": {
  "kernelspec": {
   "display_name": "Python 3",
   "language": "python",
   "name": "python3"
  },
  "language_info": {
   "codemirror_mode": {
    "name": "ipython",
    "version": 3
   },
   "file_extension": ".py",
   "mimetype": "text/x-python",
   "name": "python",
   "nbconvert_exporter": "python",
   "pygments_lexer": "ipython3",
   "version": "3.6.9"
  },
  "toc": {
   "base_numbering": 1,
   "nav_menu": {},
   "number_sections": true,
   "sideBar": true,
   "skip_h1_title": false,
   "title_cell": "Table of Contents",
   "title_sidebar": "Contents",
   "toc_cell": false,
   "toc_position": {},
   "toc_section_display": true,
   "toc_window_display": false
  }
 },
 "nbformat": 4,
 "nbformat_minor": 2
}
